{
 "cells": [
  {
   "cell_type": "code",
   "execution_count": null,
   "id": "ae1461d7",
   "metadata": {},
   "outputs": [],
   "source": [
    "import pymysql\n",
    "import pandas as pd\n",
    "import sqlalchemy\n",
    "from sqlalchemy import text\n",
    "import socket"
   ]
  },
  {
   "cell_type": "code",
   "execution_count": null,
   "id": "cc3fd0e9",
   "metadata": {},
   "outputs": [],
   "source": [
    "user = 'root'\n",
    "password = 'razith10113a'\n",
    "host = 'localhost'\n",
    "port = 3306\n",
    "database = 'dt4'\n",
    "connection = sqlalchemy.create_engine(\"mysql+pymysql://{0}:{1}@{2}:{3}/{4}\".format(user, password, host, port, database))"
   ]
  },
  {
   "cell_type": "code",
   "execution_count": null,
   "id": "094dc41c",
   "metadata": {},
   "outputs": [],
   "source": [
    "sql = text('CREATE TABLE Data_Aggregated_Transaction_Table1 (MyIndex INT NOT NULL AUTO_INCREMENT,Payment_Mode VARCHAR(50),Total_Transactions_count BIGINT,Total_Amount BIGINT,Quater INT,Year INT,State INT,PRIMARY KEY (MyIndex))')\n",
    "connection.execute(sql)\n",
    "sql = text(\"use dt4\")\n",
    "connection.execute(sql)\n",
    "df = pd.read_csv(\"E:\\GUVI\\phonepe\\Data_Aggregated_Transaction_Table1.csv\")\n",
    "df.to_sql('data_aggregated_transaction_table1',con=connection, if_exists= \"replace\",index=False, chunksize=10000)"
   ]
  },
  {
   "cell_type": "code",
   "execution_count": null,
   "id": "c06738dd",
   "metadata": {},
   "outputs": [],
   "source": [
    "sql = text('CREATE TABLE Data_Map_Districts_Longitude_Latitude2 (MyIndex INT NOT NULL AUTO_INCREMENT,State VARCHAR(50),District VARCHAR(50),Latitude BIGINT, Longitude BIGINT,PRIMARY KEY (MyIndex))')\n",
    "connection.execute(sql)\n",
    "df = pd.read_csv(\"E:\\GUVI\\phonepe\\Data_Map_Districts_Longitude_Latitude2.csv\")\n",
    "df.to_sql('data_map_districts_longitude_latitude2',con=connection, if_exists= \"replace\",index=False, chunksize=10000)"
   ]
  },
  {
   "cell_type": "code",
   "execution_count": null,
   "id": "c33eb7fa",
   "metadata": {},
   "outputs": [],
   "source": [
    "sql = text('CREATE TABLE Longitude_Latitude_State_Table3 (MyIndex INT NOT NULL AUTO_INCREMENT,code VARCHAR(50),Latitude BIGINT, Longitude BIGINT, state VARCHAR(50),PRIMARY KEY (MyIndex))')\n",
    "connection.execute(sql)\n",
    "df = pd.read_csv(\"E:\\GUVI\\phonepe\\Longitude_Latitude_State_Table3.csv\")\n",
    "df.to_sql('longitude_latitude_state_table3',con=connection, if_exists= \"replace\",index=False, chunksize=10000)"
   ]
  },
  {
   "cell_type": "code",
   "execution_count": null,
   "id": "d9f0c39e",
   "metadata": {},
   "outputs": [],
   "source": [
    "sql = text('CREATE TABLE Data_Map_Transaction4 (MyIndex INT NOT NULL AUTO_INCREMENT,District VARCHAR(50),Total_Transactions_count BIGINT,Total_Amount BIGINT,Quarter INT,Year INT,State INT,PRIMARY KEY (MyIndex))')\n",
    "connection.execute(sql)\n",
    "df = pd.read_csv(\"E:\\GUVI\\phonepe\\Data_Map_Transaction4.csv\")\n",
    "df.to_sql('data_map_transaction4',con=connection, if_exists= \"replace\",index=False, chunksize=10000)"
   ]
  },
  {
   "cell_type": "code",
   "execution_count": null,
   "id": "613c0992",
   "metadata": {},
   "outputs": [],
   "source": [
    "sql = text('CREATE TABLE Data_Map_User_Table5 (MyIndex INT NOT NULL AUTO_INCREMENT,District VARCHAR(50),Registered_user BIGINT,App_Openings BIGINT,Quarter INT,Year INT,State INT,PRIMARY KEY (MyIndex))')\n",
    "connection.execute(sql)\n",
    "df = pd.read_csv(\"E:\\GUVI\\phonepe\\Data_Map_User_Table5.csv\")\n",
    "df.to_sql('data_map_user_table5',con=connection, if_exists= \"replace\",index=False, chunksize=10000)"
   ]
  },
  {
   "cell_type": "code",
   "execution_count": null,
   "id": "4896e2d0",
   "metadata": {},
   "outputs": [],
   "source": [
    "sql = text('CREATE TABLE Data_Aggregated_User_Table6 (MyIndex INT NOT NULL AUTO_INCREMENT,Brand_Name VARCHAR(50),Registered_Users_Count BIGINT,Percentage_Share_of_Brand BIGINT,Quarter INT,Year INT,State INT,PRIMARY KEY (MyIndex))')\n",
    "connection.execute(sql)\n",
    "df = pd.read_csv(\"E:\\GUVI\\phonepe\\Data_Aggregated_User_Table6.csv\")\n",
    "df.to_sql('data_aggregated_user_table6',con=connection, if_exists= \"replace\",index=False, chunksize=10000)"
   ]
  }
 ],
 "metadata": {
  "kernelspec": {
   "display_name": "Python 3 (ipykernel)",
   "language": "python",
   "name": "python3"
  },
  "language_info": {
   "codemirror_mode": {
    "name": "ipython",
    "version": 3
   },
   "file_extension": ".py",
   "mimetype": "text/x-python",
   "name": "python",
   "nbconvert_exporter": "python",
   "pygments_lexer": "ipython3",
   "version": "3.9.13"
  }
 },
 "nbformat": 4,
 "nbformat_minor": 5
}
